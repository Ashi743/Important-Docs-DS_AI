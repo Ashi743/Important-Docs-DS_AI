{
  "nbformat": 4,
  "nbformat_minor": 0,
  "metadata": {
    "colab": {
      "provenance": [],
      "authorship_tag": "ABX9TyP6WpqRgVgnl9Vnot25jf9Y",
      "include_colab_link": true
    },
    "kernelspec": {
      "name": "python3",
      "display_name": "Python 3"
    },
    "language_info": {
      "name": "python"
    }
  },
  "cells": [
    {
      "cell_type": "markdown",
      "metadata": {
        "id": "view-in-github",
        "colab_type": "text"
      },
      "source": [
        "<a href=\"https://colab.research.google.com/github/Ashi743/Important-Docs-DS_AI/blob/main/Progressbar2.ipynb\" target=\"_parent\"><img src=\"https://colab.research.google.com/assets/colab-badge.svg\" alt=\"Open In Colab\"/></a>"
      ]
    },
    {
      "cell_type": "code",
      "execution_count": 1,
      "metadata": {
        "id": "eB3XIIU4Jwua",
        "colab": {
          "base_uri": "https://localhost:8080/"
        },
        "outputId": "90e2d84f-2fa1-4cc1-9943-28d92c94eb72"
      },
      "outputs": [
        {
          "output_type": "stream",
          "name": "stderr",
          "text": [
            "\r  0% |                                                                        |"
          ]
        },
        {
          "output_type": "stream",
          "name": "stdout",
          "text": [
            "With defaults:\n"
          ]
        },
        {
          "output_type": "stream",
          "name": "stderr",
          "text": [
            "100% |########################################################################|\n",
            "  0% |                                                                        |"
          ]
        },
        {
          "output_type": "stream",
          "name": "stdout",
          "text": [
            "\n",
            "\n",
            "Bar, Percentage\n"
          ]
        },
        {
          "output_type": "stream",
          "name": "stderr",
          "text": [
            "100% |########################################################################|\n"
          ]
        },
        {
          "output_type": "stream",
          "name": "stdout",
          "text": [
            "\n",
            "\n",
            "Bar, Percentage, Elapsed Time\n"
          ]
        },
        {
          "output_type": "stream",
          "name": "stderr",
          "text": [
            "100% |##################################################| Elapsed Time: 0:00:19\n",
            "  0% |                                                         | ETA:  --:--:--"
          ]
        },
        {
          "output_type": "stream",
          "name": "stdout",
          "text": [
            "\n",
            "\n",
            "Bar, Percentage, ETA\n"
          ]
        },
        {
          "output_type": "stream",
          "name": "stderr",
          "text": [
            "100% |#########################################################| Time:  0:00:19\n",
            "  0% |                                                                  | 0/100"
          ]
        },
        {
          "output_type": "stream",
          "name": "stdout",
          "text": [
            "\n",
            "\n",
            "Bar, Percentage, Counter\n"
          ]
        },
        {
          "output_type": "stream",
          "name": "stderr",
          "text": [
            "100% |################################################################| 100/100\n",
            "  0% |                                                                        |"
          ]
        },
        {
          "output_type": "stream",
          "name": "stdout",
          "text": [
            "\n",
            "\n",
            "Bar w/ markers\n"
          ]
        },
        {
          "output_type": "stream",
          "name": "stderr",
          "text": [
            "100% ||||||||||||||||||||||||||||||||||||||||||||||||||||||||||||||||||||||||||\n"
          ]
        },
        {
          "output_type": "stream",
          "name": "stdout",
          "text": [
            "\n",
            "\n"
          ]
        }
      ],
      "source": [
        "import time\n",
        "import progressbar\n",
        "from progressbar import ProgressBar, Percentage, Bar, Timer, ETA, Counter\n",
        "\n",
        "\n",
        "def example(description, widgets, m=100):\n",
        "    print(f\"{description}\")\n",
        "\n",
        "    with ProgressBar(widgets=widgets, max_value=m) as bar:\n",
        "        for i in range(m):\n",
        "            time.sleep(0.2)\n",
        "            bar.update(i)\n",
        "    print(\"\\n\")\n",
        "\n",
        "\n",
        "def main():\n",
        "    example(\"With defaults:\", [Percentage(), \" \", Bar()])\n",
        "    example(\"Bar, Percentage\",\n",
        "            [Percentage(), \" \", Bar()])\n",
        "\n",
        "    example(\"Bar, Percentage, Elapsed Time\",\n",
        "            [Percentage(), \" \", Bar(), \" \", Timer()])\n",
        "\n",
        "    example(\"Bar, Percentage, ETA\",\n",
        "            [Percentage(), \" \", Bar(), \" \", ETA()])\n",
        "\n",
        "    example(\"Bar, Percentage, Counter\",\n",
        "            [Percentage(), \" \", Bar(), \" \", Counter(), \"/100\"])\n",
        "\n",
        "    example(\"Bar w/ markers\",\n",
        "            [Percentage(), \" \", Bar(marker=\"|\")])\n",
        "\n",
        "\n",
        "if __name__ == \"__main__\":\n",
        "    main()"
      ]
    }
  ]
}